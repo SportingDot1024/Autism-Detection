{
 "cells": [
  {
   "cell_type": "code",
   "execution_count": 7,
   "id": "dddf375b",
   "metadata": {
    "ExecuteTime": {
     "end_time": "2024-02-14T17:56:19.205865200Z",
     "start_time": "2024-02-14T17:56:19.177792200Z"
    }
   },
   "outputs": [],
   "source": [
    "import lightgbm as lgb\n",
    "from sklearn.model_selection import train_test_split\n",
    "from sklearn.metrics import accuracy_score\n",
    "from sklearn import preprocessing\n",
    "import numpy as np\n",
    "from PIL import Image\n",
    "import os"
   ]
  },
  {
   "cell_type": "code",
   "execution_count": 8,
   "id": "372adc17",
   "metadata": {
    "ExecuteTime": {
     "end_time": "2024-02-14T17:56:21.143532800Z",
     "start_time": "2024-02-14T17:56:21.120632100Z"
    }
   },
   "outputs": [],
   "source": [
    "def load_images_from_folder(folder, label):\n",
    "    images = []\n",
    "    labels = []\n",
    "    for filename in os.listdir(folder):\n",
    "        img_path = os.path.join(folder, filename)\n",
    "        try:\n",
    "            img = Image.open(img_path)\n",
    "            img = img.resize((224, 224))  # Resize images if needed\n",
    "            img_array = np.array(img)\n",
    "            images.append(img_array.flatten())  # Flatten the image array\n",
    "            labels.append(label)\n",
    "        except Exception as e:\n",
    "            print(f\"Error loading image: {img_path} - {e}\")\n",
    "    return np.array(images), np.array(labels)"
   ]
  },
  {
   "cell_type": "code",
   "execution_count": 9,
   "id": "ce492694",
   "metadata": {
    "ExecuteTime": {
     "end_time": "2024-02-14T17:56:21.956399300Z",
     "start_time": "2024-02-14T17:56:21.943745700Z"
    }
   },
   "outputs": [],
   "source": [
    "autistic_folder = r\"C:\\Users\\Shriram\\Downloads\\AutismDataset\\train\\Autistic\"\n",
    "non_autistic_folder = r\"C:\\Users\\Shriram\\Downloads\\AutismDataset\\train\\Non_Autistic\""
   ]
  },
  {
   "cell_type": "code",
   "execution_count": 10,
   "id": "7f0baa3d",
   "metadata": {
    "ExecuteTime": {
     "end_time": "2024-02-14T17:56:56.085075600Z",
     "start_time": "2024-02-14T17:56:22.909764100Z"
    }
   },
   "outputs": [],
   "source": [
    "X_autistic, y_autistic = load_images_from_folder(autistic_folder, 1)"
   ]
  },
  {
   "cell_type": "code",
   "execution_count": 11,
   "id": "598bd3af",
   "metadata": {
    "ExecuteTime": {
     "end_time": "2024-02-14T17:57:25.222164100Z",
     "start_time": "2024-02-14T17:56:56.086084300Z"
    }
   },
   "outputs": [],
   "source": [
    "X_non_autistic, y_non_autistic = load_images_from_folder(non_autistic_folder, 0)"
   ]
  },
  {
   "cell_type": "code",
   "execution_count": 12,
   "id": "b77e77dc",
   "metadata": {
    "ExecuteTime": {
     "end_time": "2024-02-14T17:57:25.380653Z",
     "start_time": "2024-02-14T17:57:25.243244400Z"
    }
   },
   "outputs": [],
   "source": [
    "X = np.concatenate((X_autistic, X_non_autistic), axis=0)\n",
    "y = np.concatenate((y_autistic, y_non_autistic), axis=0)"
   ]
  },
  {
   "cell_type": "code",
   "execution_count": 13,
   "id": "7ab26823",
   "metadata": {
    "ExecuteTime": {
     "end_time": "2024-02-14T17:57:25.404835100Z",
     "start_time": "2024-02-14T17:57:25.384743900Z"
    }
   },
   "outputs": [],
   "source": [
    "label_encoder = preprocessing.LabelEncoder()\n",
    "y_encoded = label_encoder.fit_transform(y)"
   ]
  },
  {
   "cell_type": "code",
   "execution_count": 14,
   "id": "a73ce499",
   "metadata": {
    "ExecuteTime": {
     "end_time": "2024-02-14T17:57:25.567757Z",
     "start_time": "2024-02-14T17:57:25.398836300Z"
    }
   },
   "outputs": [],
   "source": [
    "X_train, X_test, y_train, y_test = train_test_split(X, y_encoded, test_size=0.2, random_state=42)"
   ]
  },
  {
   "cell_type": "code",
   "execution_count": 15,
   "id": "46755224",
   "metadata": {
    "ExecuteTime": {
     "end_time": "2024-02-14T17:57:25.588056600Z",
     "start_time": "2024-02-14T17:57:25.569744500Z"
    }
   },
   "outputs": [],
   "source": [
    "train_data = lgb.Dataset(X_train, label=y_train)\n",
    "test_data = lgb.Dataset(X_test, label=y_test, reference=train_data)"
   ]
  },
  {
   "cell_type": "code",
   "execution_count": 16,
   "id": "7b9c5825",
   "metadata": {
    "ExecuteTime": {
     "end_time": "2024-02-14T17:57:25.589056200Z",
     "start_time": "2024-02-14T17:57:25.577503600Z"
    }
   },
   "outputs": [],
   "source": [
    "params = {\n",
    "    'objective': 'binary',\n",
    "    'metric': 'binary_logloss',\n",
    "    'boosting_type': 'gbdt',\n",
    "    'num_leaves': 31,\n",
    "    'learning_rate': 0.05,\n",
    "    'feature_fraction': 0.9\n",
    "}"
   ]
  },
  {
   "cell_type": "code",
   "execution_count": null,
   "id": "9aaf29fd",
   "metadata": {},
   "outputs": [],
   "source": [
    "num_round = 100\n",
    "bst = lgb.train(params, train_data, num_round, valid_sets=[test_data])"
   ]
  },
  {
   "cell_type": "code",
   "execution_count": 18,
   "id": "85e74d13",
   "metadata": {
    "ExecuteTime": {
     "end_time": "2024-02-14T18:01:34.596062900Z",
     "start_time": "2024-02-14T18:01:33.962628Z"
    }
   },
   "outputs": [],
   "source": [
    "y_pred_proba = bst.predict(X_test, num_iteration=bst.best_iteration)"
   ]
  },
  {
   "cell_type": "code",
   "execution_count": 19,
   "id": "39d44eb2",
   "metadata": {
    "ExecuteTime": {
     "end_time": "2024-02-14T18:01:37.604280100Z",
     "start_time": "2024-02-14T18:01:37.555267100Z"
    }
   },
   "outputs": [],
   "source": [
    "y_pred_class = [1 if x>=0.5 else 0 for x in y_pred_proba]"
   ]
  },
  {
   "cell_type": "code",
   "execution_count": 20,
   "id": "4cd7f5f9",
   "metadata": {
    "ExecuteTime": {
     "end_time": "2024-02-14T18:01:38.667184500Z",
     "start_time": "2024-02-14T18:01:38.649455600Z"
    }
   },
   "outputs": [],
   "source": [
    "y_test_decoded = label_encoder.inverse_transform(y_test)"
   ]
  },
  {
   "cell_type": "code",
   "execution_count": 21,
   "id": "6832a6bb",
   "metadata": {
    "ExecuteTime": {
     "end_time": "2024-02-14T18:01:39.679264700Z",
     "start_time": "2024-02-14T18:01:39.663206100Z"
    }
   },
   "outputs": [],
   "source": [
    "y_pred_decoded = label_encoder.inverse_transform(y_pred_class)"
   ]
  },
  {
   "cell_type": "code",
   "execution_count": 22,
   "id": "492ced27",
   "metadata": {
    "ExecuteTime": {
     "end_time": "2024-02-14T18:01:40.804880300Z",
     "start_time": "2024-02-14T18:01:40.770879300Z"
    }
   },
   "outputs": [],
   "source": [
    "accuracy = accuracy_score(y_test_decoded,y_pred_decoded)"
   ]
  },
  {
   "cell_type": "code",
   "outputs": [],
   "source": [
    "print(accuracy)\n"
   ],
   "metadata": {
    "collapsed": false
   },
   "id": "8f7788fa0c89866c",
   "execution_count": null
  }
 ],
 "metadata": {
  "kernelspec": {
   "display_name": "Python 3 (ipykernel)",
   "language": "python",
   "name": "python3"
  },
  "language_info": {
   "codemirror_mode": {
    "name": "ipython",
    "version": 3
   },
   "file_extension": ".py",
   "mimetype": "text/x-python",
   "name": "python",
   "nbconvert_exporter": "python",
   "pygments_lexer": "ipython3",
   "version": "3.11.5"
  }
 },
 "nbformat": 4,
 "nbformat_minor": 5
}
